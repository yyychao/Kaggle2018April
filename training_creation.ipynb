{
 "cells": [
  {
   "cell_type": "code",
   "execution_count": 1,
   "metadata": {},
   "outputs": [],
   "source": [
    "import numpy as np # linear algebra\n",
    "import pandas as pd # data processing, CSV file I/O (e.g. pd.read_csv)\n",
    "import datetime"
   ]
  },
  {
   "cell_type": "code",
   "execution_count": 2,
   "metadata": {},
   "outputs": [],
   "source": [
    "import matplotlib.pyplot as plt\n",
    "%matplotlib inline"
   ]
  },
  {
   "cell_type": "markdown",
   "metadata": {},
   "source": [
    "They handle 3 billion clicks per day, of which 90% are potentially fraudulent. Their current approach to prevent click fraud for app developers is to measure the journey of a user’s click across their portfolio, and flag IP addresses who produce lots of clicks, but never end up installing apps. With this information, they've built an IP blacklist and device blacklist.\n",
    "\n",
    "While successful, they want to always be one step ahead of fraudsters and have turned to the Kaggle community for help in further developing their solution. In their 2nd competition with Kaggle, you’re challenged to build an algorithm that predicts whether a user will download an app after clicking a mobile app ad. To support your modeling, they have provided a generous dataset covering approximately 200 million clicks over 4 days!"
   ]
  },
  {
   "cell_type": "code",
   "execution_count": 4,
   "metadata": {},
   "outputs": [],
   "source": [
    "df_train_sample=pd.read_csv(\"./kaggle/train_sample.csv\")"
   ]
  },
  {
   "cell_type": "code",
   "execution_count": 5,
   "metadata": {},
   "outputs": [
    {
     "data": {
      "text/plain": [
       "(100000, 8)"
      ]
     },
     "execution_count": 5,
     "metadata": {},
     "output_type": "execute_result"
    }
   ],
   "source": [
    "df_train_sample.shape"
   ]
  },
  {
   "cell_type": "code",
   "execution_count": 6,
   "metadata": {},
   "outputs": [
    {
     "data": {
      "text/html": [
       "<div>\n",
       "<style scoped>\n",
       "    .dataframe tbody tr th:only-of-type {\n",
       "        vertical-align: middle;\n",
       "    }\n",
       "\n",
       "    .dataframe tbody tr th {\n",
       "        vertical-align: top;\n",
       "    }\n",
       "\n",
       "    .dataframe thead th {\n",
       "        text-align: right;\n",
       "    }\n",
       "</style>\n",
       "<table border=\"1\" class=\"dataframe\">\n",
       "  <thead>\n",
       "    <tr style=\"text-align: right;\">\n",
       "      <th></th>\n",
       "      <th>ip</th>\n",
       "      <th>app</th>\n",
       "      <th>device</th>\n",
       "      <th>os</th>\n",
       "      <th>channel</th>\n",
       "      <th>click_time</th>\n",
       "      <th>attributed_time</th>\n",
       "      <th>is_attributed</th>\n",
       "    </tr>\n",
       "  </thead>\n",
       "  <tbody>\n",
       "    <tr>\n",
       "      <th>0</th>\n",
       "      <td>87540</td>\n",
       "      <td>12</td>\n",
       "      <td>1</td>\n",
       "      <td>13</td>\n",
       "      <td>497</td>\n",
       "      <td>2017-11-07 09:30:38</td>\n",
       "      <td>NaN</td>\n",
       "      <td>0</td>\n",
       "    </tr>\n",
       "    <tr>\n",
       "      <th>1</th>\n",
       "      <td>105560</td>\n",
       "      <td>25</td>\n",
       "      <td>1</td>\n",
       "      <td>17</td>\n",
       "      <td>259</td>\n",
       "      <td>2017-11-07 13:40:27</td>\n",
       "      <td>NaN</td>\n",
       "      <td>0</td>\n",
       "    </tr>\n",
       "    <tr>\n",
       "      <th>2</th>\n",
       "      <td>101424</td>\n",
       "      <td>12</td>\n",
       "      <td>1</td>\n",
       "      <td>19</td>\n",
       "      <td>212</td>\n",
       "      <td>2017-11-07 18:05:24</td>\n",
       "      <td>NaN</td>\n",
       "      <td>0</td>\n",
       "    </tr>\n",
       "    <tr>\n",
       "      <th>3</th>\n",
       "      <td>94584</td>\n",
       "      <td>13</td>\n",
       "      <td>1</td>\n",
       "      <td>13</td>\n",
       "      <td>477</td>\n",
       "      <td>2017-11-07 04:58:08</td>\n",
       "      <td>NaN</td>\n",
       "      <td>0</td>\n",
       "    </tr>\n",
       "    <tr>\n",
       "      <th>4</th>\n",
       "      <td>68413</td>\n",
       "      <td>12</td>\n",
       "      <td>1</td>\n",
       "      <td>1</td>\n",
       "      <td>178</td>\n",
       "      <td>2017-11-09 09:00:09</td>\n",
       "      <td>NaN</td>\n",
       "      <td>0</td>\n",
       "    </tr>\n",
       "  </tbody>\n",
       "</table>\n",
       "</div>"
      ],
      "text/plain": [
       "       ip  app  device  os  channel           click_time attributed_time  \\\n",
       "0   87540   12       1  13      497  2017-11-07 09:30:38             NaN   \n",
       "1  105560   25       1  17      259  2017-11-07 13:40:27             NaN   \n",
       "2  101424   12       1  19      212  2017-11-07 18:05:24             NaN   \n",
       "3   94584   13       1  13      477  2017-11-07 04:58:08             NaN   \n",
       "4   68413   12       1   1      178  2017-11-09 09:00:09             NaN   \n",
       "\n",
       "   is_attributed  \n",
       "0              0  \n",
       "1              0  \n",
       "2              0  \n",
       "3              0  \n",
       "4              0  "
      ]
     },
     "execution_count": 6,
     "metadata": {},
     "output_type": "execute_result"
    }
   ],
   "source": [
    "df_train_sample.head()"
   ]
  },
  {
   "cell_type": "code",
   "execution_count": 63,
   "metadata": {},
   "outputs": [],
   "source": [
    "from sklearn.preprocessing import OneHotEncoder"
   ]
  },
  {
   "cell_type": "markdown",
   "metadata": {},
   "source": [
    "## Training data Creation:"
   ]
  },
  {
   "cell_type": "code",
   "execution_count": 102,
   "metadata": {},
   "outputs": [],
   "source": [
    "class training_creation(object):\n",
    "    def __init__(self, df):\n",
    "        self.df = df\n",
    "        self.start_time = df.click_time.min()\n",
    "        self.end_time = df.click_time.max()\n",
    "        self.categorical_col = ['app', 'device', 'os','channel']\n",
    "    \n",
    "    def _add_click_datetime(self):\n",
    "        \"\"\"Add datetime col to dataframe\"\"\"\n",
    "        self.df['click_datetime'] = pd.to_datetime(self.df['click_time'])\n",
    "    \n",
    "    def _add_day(self):\n",
    "        \"\"\"Add day col to dataframe\"\"\"\n",
    "        if 'click_datetime' in self.df.columns:\n",
    "            self.df['day'] = self.df.click_datetime.dt.day\n",
    "        else:\n",
    "#             self.logger.info('no click datetime column')\n",
    "            print('no click datetime column')\n",
    "    \n",
    "    @property\n",
    "    def N_days(self):\n",
    "        \"\"\"Number of days of dataframe\"\"\"\n",
    "        return max(self.df['day']) - min(self.df['day']) + 1\n",
    "    \n",
    "    def _add_hour(self):\n",
    "        \"\"\"Add hour col to dataframe\"\"\"\n",
    "        if 'click_datetime' in self.df.columns:\n",
    "            self.df['hour'] = self.df.click_datetime.dt.hour\n",
    "        else:\n",
    "#             self.logger.info('no click datetime column')\n",
    "            print('no click datetime column')\n",
    "    \n",
    "    def _add_minute(self):\n",
    "        \"\"\"Add minute to dataframe\"\"\"\n",
    "        if 'click_datetime' in self.df.columns:\n",
    "            self.df['minute'] = self.df.click_datetime.dt.minute\n",
    "        else:\n",
    "#             self.logger.info('no click datetime column')\n",
    "            print('no click datetime column')\n",
    "    \n",
    "    def _add_second(self):\n",
    "        \"\"\"Add second col to dataframe\"\"\"\n",
    "        if 'click_datetime' in self.df.columns:\n",
    "            self.df['second'] = self.df.click_datetime.dt.second\n",
    "        else:\n",
    "#             self.logger.info('no click datetime column')\n",
    "            print('no click datetime column')\n",
    "    \n",
    "    def _add_ip_counts_per_hour(self):\n",
    "        \"\"\"Add IP clicktime per hour columns to dataframe\n",
    "        Note: This function will add 24 columns to the dataframe. \n",
    "        \"\"\"\n",
    "    # input: dataframe with ip, day, hour, minute, secod columns\n",
    "    # output: dataframe with click counts per hour \n",
    "    # Note: This function will add 24 columns to the dataframe. \n",
    "    # For the same ip, its feature hx_count has the same value, x between 0 to 23.\n",
    "    # hourx_count values are devided by number of days (ndays) to get the average counts \n",
    "    # over the observed days\n",
    "        ndays = self.N_days\n",
    "        df = self.df\n",
    "        if set(['ip', 'day', 'hour', 'minute', 'second']).issubset(df.columns):\n",
    "            for i in range(24):\n",
    "                hour_i = df[df['hour']==i][['ip','hour']].groupby('ip').agg('count')/ndays\n",
    "                hour_i.reset_index(inplace=True)\n",
    "                hour_i['h'+str(i)+'_count'] = hour_i['hour']\n",
    "                hour_i.drop('hour', inplace = True, axis=1)\n",
    "                df = pd.merge(df, hour_i, on = 'ip',how = 'outer' )\n",
    "            self.df = df\n",
    "        else:\n",
    "            print('no {} column'.format(set(['ip', 'day', 'hour', 'minute', 'second']).difference(set(df.columns))))\n",
    "            \n",
    "    def _add_IP_feature(self):\n",
    "        df = self.df\n",
    "        ip_feature = df.groupby('ip').agg({'hour':['mean', 'std'], 'os': 'nunique',\n",
    "                                          'device': 'nunique', 'app': ['nunique','count']}).replace(np.nan, 0).reset_index()\n",
    "        ip_feature.columns = ['ip', 'hour_mean', 'hour_std', 'os_num', 'device_num', 'app_num', 'click_num']\n",
    "        self.df = pd.merge(df, ip_feature, on='ip', how='left')\n",
    "\n",
    "    def _convert_categorical(self):\n",
    "        enc = OneHotEncoder()\n",
    "        enc.fit(self.df[self.categorical_col])\n",
    "        return enc, enc.transform(self.df[self.categorical_col]).toarray()\n",
    "    \n",
    "    def transform(self):\n",
    "        self._add_click_datetime()\n",
    "        self._add_day()\n",
    "        self._add_hour()\n",
    "        self._add_minute()\n",
    "        self._add_second()\n",
    "        self._add_ip_counts_per_hour()\n",
    "        self._add_IP_feature()\n",
    "        self.enc, cat_array = self._convert_categorical()\n",
    "        \n",
    "        X = self.df.drop(self.categorical_col, axis=1)\n",
    "        self.X = np.concatenate((X, cat_array), axis=1)"
   ]
  },
  {
   "cell_type": "code",
   "execution_count": 103,
   "metadata": {},
   "outputs": [],
   "source": [
    "test = training_creation(df_train_sample)"
   ]
  },
  {
   "cell_type": "code",
   "execution_count": 104,
   "metadata": {},
   "outputs": [],
   "source": [
    "test.transform()"
   ]
  },
  {
   "cell_type": "code",
   "execution_count": 105,
   "metadata": {},
   "outputs": [],
   "source": [
    "X=test.X"
   ]
  },
  {
   "cell_type": "code",
   "execution_count": 110,
   "metadata": {},
   "outputs": [
    {
     "data": {
      "text/plain": [
       "(100000, 43)"
      ]
     },
     "execution_count": 110,
     "metadata": {},
     "output_type": "execute_result"
    }
   ],
   "source": [
    "test.df.shape"
   ]
  },
  {
   "cell_type": "code",
   "execution_count": 107,
   "metadata": {},
   "outputs": [
    {
     "data": {
      "text/plain": [
       "(100000, 591)"
      ]
     },
     "execution_count": 107,
     "metadata": {},
     "output_type": "execute_result"
    }
   ],
   "source": [
    "X.shape"
   ]
  },
  {
   "cell_type": "code",
   "execution_count": null,
   "metadata": {},
   "outputs": [],
   "source": []
  },
  {
   "cell_type": "code",
   "execution_count": null,
   "metadata": {},
   "outputs": [],
   "source": []
  }
 ],
 "metadata": {
  "kernelspec": {
   "display_name": "Python 3",
   "language": "python",
   "name": "python3"
  },
  "language_info": {
   "codemirror_mode": {
    "name": "ipython",
    "version": 3
   },
   "file_extension": ".py",
   "mimetype": "text/x-python",
   "name": "python",
   "nbconvert_exporter": "python",
   "pygments_lexer": "ipython3",
   "version": "3.6.4"
  }
 },
 "nbformat": 4,
 "nbformat_minor": 2
}
